{
 "cells": [
  {
   "cell_type": "raw",
   "metadata": {},
   "source": [
    "1) A company decided to give bonus of 5% to employee if his/her year of service is more than 5 years.\n",
    "Ask user for their salary and year of service and print the net bonus amount."
   ]
  },
  {
   "cell_type": "code",
   "execution_count": 1,
   "metadata": {},
   "outputs": [
    {
     "name": "stdout",
     "output_type": "stream",
     "text": [
      "Enter your salary: 100000\n",
      "Enter your years of service: 6\n",
      "Congratulations! You are eligible for a bonus of $5000.00.\n"
     ]
    }
   ],
   "source": [
    "salary = float(input(\"Enter your salary: \"))\n",
    "years_of_service = int(input(\"Enter your years of service: \"))\n",
    "\n",
    "# Check if the employee is eligible for a bonus\n",
    "if years_of_service > 5:\n",
    "    # Calculate the bonus amount (5% of the salary)\n",
    "    bonus_amount = 0.05 * salary\n",
    "    print(f\"Congratulations! You are eligible for a bonus of ${bonus_amount:.2f}.\")\n",
    "else:\n",
    "    print(\"Sorry, you are not eligible for a bonus.\")"
   ]
  },
  {
   "cell_type": "markdown",
   "metadata": {},
   "source": [
    "\n",
    "2) Write a program to check whether a person is eligible for voting or not. (accept age from user) if age is greater than 17 eligible otherwise not eligible"
   ]
  },
  {
   "cell_type": "code",
   "execution_count": 3,
   "metadata": {},
   "outputs": [
    {
     "name": "stdout",
     "output_type": "stream",
     "text": [
      "Enter your age: 17\n",
      "Sorry, you are not eligible for voting yet.\n"
     ]
    }
   ],
   "source": [
    "#Get user input for age\n",
    "age = int(input(\"Enter your age: \"))\n",
    "\n",
    "# Check if the person is eligible for voting\n",
    "if age > 17:\n",
    "    print(\"You are eligible for voting.\")\n",
    "else:\n",
    "    print(\"Sorry, you are not eligible for voting yet.\")"
   ]
  },
  {
   "cell_type": "markdown",
   "metadata": {},
   "source": [
    "\n",
    "3) Write a program to check whether a number entered by user is even or odd."
   ]
  },
  {
   "cell_type": "code",
   "execution_count": 11,
   "metadata": {},
   "outputs": [
    {
     "name": "stdout",
     "output_type": "stream",
     "text": [
      "Enter a number: 5767676\n",
      "{number} is even.\n"
     ]
    }
   ],
   "source": [
    "# Get user input for a number\n",
    "user_input = input(\"Enter a number: \")\n",
    "\n",
    "# Convert the user input to an integer\n",
    "try:\n",
    "    number = int(user_input)\n",
    "    # Check if the number is even or odd\n",
    "    if number % 2 == 0:\n",
    "        print(\"{number} is even.\")\n",
    "    else:\n",
    "        print(\"{number} is odd.\")\n",
    "except ValueError:\n",
    "    print(\"Invalid input. Please enter a valid integer.\")   \n",
    "          "
   ]
  },
  {
   "cell_type": "markdown",
   "metadata": {},
   "source": [
    "## 4) Write a program to check whether a number is divisible by 7 or not.\n",
    "Show Answer"
   ]
  },
  {
   "cell_type": "code",
   "execution_count": 2,
   "metadata": {},
   "outputs": [
    {
     "name": "stdout",
     "output_type": "stream",
     "text": [
      "Enter your number: 77\n",
      "Your number is divisible by 7.\n"
     ]
    }
   ],
   "source": [
    "user_input = int(input(\"Enter your number: \"))\n",
    "\n",
    "if user_input % 7 == 0:\n",
    "    print(\"Your number is divisible by 7.\")\n",
    "else:\n",
    "    print(\"Your number is not divisible by 7.\")\n"
   ]
  },
  {
   "cell_type": "code",
   "execution_count": null,
   "metadata": {},
   "outputs": [],
   "source": [
    "5) Write a program to display \n",
    "\"Hello\" if a number entered by user is a multiple of five , otherwise print \"Bye\"."
   ]
  },
  {
   "cell_type": "code",
   "execution_count": 10,
   "metadata": {},
   "outputs": [
    {
     "name": "stdout",
     "output_type": "stream",
     "text": [
      "Enter your number: 45\n",
      "Hello\n"
     ]
    }
   ],
   "source": [
    "User_input =int(input(\"Enter your number: \"))\n",
    "if User_input%5==0:\n",
    "    print(\"Hello\")\n",
    "else:\n",
    "    print(\"Bye\")"
   ]
  },
  {
   "cell_type": "code",
   "execution_count": 7,
   "metadata": {},
   "outputs": [
    {
     "ename": "SyntaxError",
     "evalue": "unmatched ')' (1765578489.py, line 1)",
     "output_type": "error",
     "traceback": [
      "\u001b[1;36m  Cell \u001b[1;32mIn[7], line 1\u001b[1;36m\u001b[0m\n\u001b[1;33m    7) Write a program to display the last digit of a number.\u001b[0m\n\u001b[1;37m     ^\u001b[0m\n\u001b[1;31mSyntaxError\u001b[0m\u001b[1;31m:\u001b[0m unmatched ')'\n"
     ]
    }
   ],
   "source": [
    "7) Write a program to display the last digit of a number.\n",
    "\n",
    "\n",
    "\n"
   ]
  },
  {
   "cell_type": "code",
   "execution_count": 12,
   "metadata": {},
   "outputs": [],
   "source": [
    "#Type your code here"
   ]
  },
  {
   "cell_type": "raw",
   "metadata": {},
   "source": [
    "Q8. Write a program to check whether the last digit of a number( entered by user ) is \n",
    "divisible by 3 or not."
   ]
  },
  {
   "cell_type": "code",
   "execution_count": 13,
   "metadata": {},
   "outputs": [
    {
     "name": "stdout",
     "output_type": "stream",
     "text": [
      "Enter a number: 4333\n",
      "The last digit (3) is divisible by 3.\n"
     ]
    }
   ],
   "source": [
    "\n",
    "# Get user input for a number\n",
    "user_input = input(\"Enter a number: \")\n",
    "\n",
    "# Check if the input is a valid integer\n",
    "try:\n",
    "    number = int(user_input)\n",
    "\n",
    "    # Get the last digit of the number\n",
    "    last_digit = abs(number) % 10\n",
    "\n",
    "    # Check if the last digit is divisible by 3\n",
    "    if last_digit % 3 == 0:\n",
    "        print(f\"The last digit ({last_digit}) is divisible by 3.\")\n",
    "    else:\n",
    "        print(f\"The last digit ({last_digit}) is not divisible by 3.\")\n",
    "\n",
    "except ValueError:\n",
    "    print(\"Invalid input. Please enter a valid integer.\")\n"
   ]
  },
  {
   "cell_type": "raw",
   "metadata": {},
   "source": [
    "9) Take values of length and breadth of a rectangle from user and print if it is square or rectangle."
   ]
  },
  {
   "cell_type": "code",
   "execution_count": 14,
   "metadata": {},
   "outputs": [
    {
     "name": "stdout",
     "output_type": "stream",
     "text": [
      "Enter the length of the rectangle: 45\n",
      "Enter the breadth of the rectangle: 66\n",
      "It's a rectangle.\n"
     ]
    }
   ],
   "source": [
    "# Get user input for length and breadth\n",
    "length = float(input(\"Enter the length of the rectangle: \"))\n",
    "breadth = float(input(\"Enter the breadth of the rectangle: \"))\n",
    "\n",
    "# Check if it's a square or rectangle\n",
    "if length == breadth:\n",
    "    print(\"It's a square.\")\n",
    "else:\n",
    "    print(\"It's a rectangle.\")\n"
   ]
  },
  {
   "cell_type": "raw",
   "metadata": {},
   "source": [
    "10) Take two int values from user and print greatest among them."
   ]
  },
  {
   "cell_type": "code",
   "execution_count": 15,
   "metadata": {},
   "outputs": [
    {
     "name": "stdout",
     "output_type": "stream",
     "text": [
      "Enter your number: 44\n",
      "Enter your number: 34\n",
      "First number is greater than Second\n"
     ]
    }
   ],
   "source": [
    "FIRST_Number = int(input(\"Enter your number: \"))\n",
    "Second_Number =int(input(\"Enter your number: \"))\n",
    "if FIRST_Number>Second_Number:\n",
    "    print (\"First number is greater than Second\")\n",
    "else:\n",
    "    print (\"Second number is greater\")\n"
   ]
  },
  {
   "cell_type": "raw",
   "metadata": {},
   "source": [
    "11) A shop will give discount of 10% if the cost of purchased quantity is more than 1000.\n",
    "Ask user for quantity\n",
    "Suppose, one unit will cost 100.\n",
    "Judge and print total cost for user."
   ]
  },
  {
   "cell_type": "code",
   "execution_count": 18,
   "metadata": {},
   "outputs": [
    {
     "name": "stdout",
     "output_type": "stream",
     "text": [
      "Enter the quantity: 33\n",
      "Total cost after a 10% discount: 2970.00\n"
     ]
    }
   ],
   "source": [
    "# Get user input for quantity\n",
    "quantity = int(input(\"Enter the quantity: \"))\n",
    "\n",
    "# Assuming one unit costs 100\n",
    "cost_per_unit = 100\n",
    "\n",
    "# Calculate total cost\n",
    "total_cost = quantity * cost_per_unit\n",
    "\n",
    "# Check if the total cost is more than 1000 to apply the discount\n",
    "if total_cost > 1000:\n",
    "    discount = 0.10 * total_cost\n",
    "    total_cost -= discount\n",
    "    print(f\"Total cost after a 10% discount: {total_cost:.2f}\")\n",
    "else:\n",
    "    print(f\"Total cost: {total_cost:.2f}\")\n"
   ]
  },
  {
   "cell_type": "raw",
   "metadata": {},
   "source": [
    "12) A school has following rules for grading system:\n",
    "\n",
    "a. Below 25 - F\n",
    "\n",
    "b. 25 to 45 - E\n",
    "\n",
    "c. 45 to 50 - D\n",
    "\n",
    "d. 50 to 60 - C\n",
    "\n",
    "e. 60 to 80 - B\n",
    "\n",
    "f. Above 80 - A\n",
    "\n",
    "Ask user to enter marks and print the corresponding grade."
   ]
  },
  {
   "cell_type": "code",
   "execution_count": 2,
   "metadata": {},
   "outputs": [
    {
     "name": "stdout",
     "output_type": "stream",
     "text": [
      "Enter your marks: 90\n",
      "you achieve A grade WELL DONE \n"
     ]
    }
   ],
   "source": [
    " User_input= int(input(\"Enter your marks: \"))\n",
    "if User_input<25:\n",
    "    print(\"you achieve f grade\")\n",
    "elif  25<User_input<45:\n",
    "    print(\"you achieve E grade\")\n",
    "elif  45<User_input<50:\n",
    "     print(\"you achieve D grade\")\n",
    "elif   50<User_input<60:\n",
    "    print(\"you achieve C grade\")\n",
    "elif   60<User_input<80:\n",
    "    print(\"you achieve B grade\")\n",
    "elif   80<User_input:\n",
    "     print(\"you achieve A grade WELL DONE \")\n",
    "    \n",
    "    "
   ]
  },
  {
   "cell_type": "raw",
   "metadata": {},
   "source": [
    "14)A student will not be allowed to sit in exam if his/her attendence is less than 75%.\n",
    "\n",
    "Take following input from user\n",
    "\n",
    "Number of classes held\n",
    "\n",
    "Number of classes attended.\n",
    "\n",
    "And print\n",
    "\n",
    "percentage of class attended\n",
    "\n",
    "Is student is allowed to sit in exam or not.\n"
   ]
  },
  {
   "cell_type": "code",
   "execution_count": 3,
   "metadata": {},
   "outputs": [
    {
     "name": "stdout",
     "output_type": "stream",
     "text": [
      "Enter the total number of classes held: 36\n",
      "Enter the number of classes attended: 20\n",
      "Percentage of classes attended: 55.55555555555556%\n",
      "The student is not allowed to sit in the exam due to insufficient attendance.\n"
     ]
    }
   ],
   "source": [
    "# Get input from the user\n",
    "total_classes = int(input(\"Enter the total number of classes held: \"))\n",
    "attended_classes = int(input(\"Enter the number of classes attended: \"))\n",
    "\n",
    "# Calculate the attendance percentage\n",
    "attendance_percentage = (attended_classes / total_classes) * 100\n",
    "\n",
    "# Print the percentage of classes attended\n",
    "print(f\"Percentage of classes attended: {attendance_percentage}%\")\n",
    "\n",
    "# Check if the student is allowed to sit in the exam\n",
    "if attendance_percentage >= 75:\n",
    "    print(\"The student is allowed to sit in the exam.\")\n",
    "else:\n",
    "    print(\"The student is not allowed to sit in the exam due to insufficient attendance.\")\n"
   ]
  },
  {
   "cell_type": "raw",
   "metadata": {},
   "source": [
    "15) Modify the above question to allow student to sit if he/she has medical cause. Ask user if he/she has medical cause or not ( 'Y' or 'N' ) and print accordingly."
   ]
  },
  {
   "cell_type": "code",
   "execution_count": 4,
   "metadata": {},
   "outputs": [
    {
     "name": "stdout",
     "output_type": "stream",
     "text": [
      "Enter the total number of classes held: 35\n",
      "Enter the number of classes attended: 20\n",
      "Percentage of classes attended: 57.14285714285714%\n",
      "Do you have a medical cause? (Enter 'Y' for Yes, 'N' for No): Y\n",
      "The student is allowed to sit in the exam.\n"
     ]
    }
   ],
   "source": [
    "# Get input from the user\n",
    "total_classes = int(input(\"Enter the total number of classes held: \"))\n",
    "attended_classes = int(input(\"Enter the number of classes attended: \"))\n",
    "\n",
    "# Calculate the attendance percentage\n",
    "attendance_percentage = (attended_classes / total_classes) * 100\n",
    "\n",
    "# Print the percentage of classes attended\n",
    "print(f\"Percentage of classes attended: {attendance_percentage}%\")\n",
    "\n",
    "# Ask the user if there is a medical cause\n",
    "medical_cause = input(\"Do you have a medical cause? (Enter 'Y' for Yes, 'N' for No): \").upper()\n",
    "\n",
    "# Check if the student is allowed to sit in the exam\n",
    "if attendance_percentage >= 75 or medical_cause == 'Y':\n",
    "    print(\"The student is allowed to sit in the exam.\")\n",
    "else:\n",
    "    print(\"The student is not allowed to sit in the exam due to insufficient attendance.\")\n"
   ]
  },
  {
   "cell_type": "raw",
   "metadata": {},
   "source": [
    "16) Write a program to check if a year is leap year or not.\n",
    "\n",
    "If a year is divisible by 4 then it is leap year but if the year is century year like 2000, 1900, 2100 then it must be divisible by 400."
   ]
  },
  {
   "cell_type": "code",
   "execution_count": 5,
   "metadata": {},
   "outputs": [
    {
     "name": "stdout",
     "output_type": "stream",
     "text": [
      "Enter a year: 2024\n",
      "2024 is a leap year.\n"
     ]
    }
   ],
   "source": [
    "# Get input from the user\n",
    "year = int(input(\"Enter a year: \"))\n",
    "\n",
    "# Check if the year is a leap year\n",
    "if (year % 4 == 0 and year % 100 != 0) or (year % 400 == 0):\n",
    "    print(f\"{year} is a leap year.\")\n",
    "else:\n",
    "    print(f\"{year} is not a leap year.\")\n"
   ]
  },
  {
   "cell_type": "raw",
   "metadata": {},
   "source": [
    "17) Ask user to enter age, gender ( M or F ), marital status ( Y or N ) and then using following rules print their place of service.\n",
    "\n",
    "if employee is female, then she will work only in urban areas.\n",
    "\n",
    "if employee is a male and age is in between 20 to 40 then he may work in anywhere\n",
    "\n",
    "if employee is male and age is in between 40 t0 60 then he will work in urban areas only.\n",
    "\n",
    "And any other input of age should print \"ERROR\""
   ]
  },
  {
   "cell_type": "code",
   "execution_count": 6,
   "metadata": {},
   "outputs": [
    {
     "name": "stdout",
     "output_type": "stream",
     "text": [
      "Enter age: 22\n",
      "Enter gender (M or F): M\n",
      "Enter marital status (Y or N): N\n",
      "He may work anywhere.\n"
     ]
    }
   ],
   "source": [
    "# Get input from the user\n",
    "age = int(input(\"Enter age: \"))\n",
    "gender = input(\"Enter gender (M or F): \").upper()\n",
    "marital_status = input(\"Enter marital status (Y or N): \").upper()\n",
    "\n",
    "# Check the rules for place of service based on input\n",
    "if gender == 'F':\n",
    "    print(\"She will work only in urban areas.\")\n",
    "elif gender == 'M' and 20 <= age <= 40:\n",
    "    print(\"He may work anywhere.\")\n",
    "elif gender == 'M' and 40 <= age <= 60:\n",
    "    print(\"He will work in urban areas only.\")\n",
    "else:\n",
    "    print(\"ERROR\")\n"
   ]
  },
  {
   "cell_type": "code",
   "execution_count": null,
   "metadata": {},
   "outputs": [],
   "source": []
  },
  {
   "cell_type": "raw",
   "metadata": {},
   "source": [
    "6) Write a program to calculate the electricity bill (accept number of unit from user) according to the following criteria :\n",
    "     Unit                                                     Price  \n",
    "uptp 100 units                                             no charge\n",
    "Next 200 units                                              Rs 5 per unit\n",
    "After 200 units                                             Rs 10 per unit\n",
    "(For example if input unit is 350 than total bill amount is Rs.3500\n",
    "(For example if input unit is 97 than total bill amount is Rs.0\n",
    "(For example if input unit is 150 than total bill amount is Rs.750"
   ]
  },
  {
   "cell_type": "raw",
   "metadata": {},
   "source": [
    "13) Take input of age of 3 people by user and determine oldest and youngest among them."
   ]
  },
  {
   "cell_type": "code",
   "execution_count": 8,
   "metadata": {},
   "outputs": [
    {
     "name": "stdout",
     "output_type": "stream",
     "text": [
      "Enter the number of units consumed: 240\n",
      "Total bill amount: Rs.700\n"
     ]
    }
   ],
   "source": [
    "#Type your code here\n",
    "# Get input from the user\n",
    "units = int(input(\"Enter the number of units consumed: \"))\n",
    "\n",
    "# Calculate the electricity bill based on the criteria\n",
    "if units <= 100:\n",
    "    # No charge for up to 100 units\n",
    "    bill_amount = 0\n",
    "elif units <= 300:\n",
    "    # Rs 5 per unit for the next 200 units\n",
    "    bill_amount = (units - 100) * 5\n",
    "else:\n",
    "    # Rs 10 per unit for units above 300\n",
    "    bill_amount = 200 * 5 + (units - 300) * 10\n",
    "\n",
    "# Print the total bill amount\n",
    "print(f\"Total bill amount: Rs.{bill_amount}\")\n"
   ]
  },
  {
   "cell_type": "code",
   "execution_count": null,
   "metadata": {},
   "outputs": [],
   "source": []
  }
 ],
 "metadata": {
  "kernelspec": {
   "display_name": "Python 3 (ipykernel)",
   "language": "python",
   "name": "python3"
  },
  "language_info": {
   "codemirror_mode": {
    "name": "ipython",
    "version": 3
   },
   "file_extension": ".py",
   "mimetype": "text/x-python",
   "name": "python",
   "nbconvert_exporter": "python",
   "pygments_lexer": "ipython3",
   "version": "3.11.5"
  }
 },
 "nbformat": 4,
 "nbformat_minor": 2
}
